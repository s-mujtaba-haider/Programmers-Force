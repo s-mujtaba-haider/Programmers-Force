{
 "cells": [
  {
   "cell_type": "code",
   "execution_count": null,
   "id": "e63b12f6-1c46-4387-ad1c-998600c6032a",
   "metadata": {},
   "outputs": [
    {
     "name": "stdout",
     "output_type": "stream",
     "text": [
      "Total ZIP files: 20\n",
      "⬇️ Downloading fake_part_000.zip ...\n"
     ]
    }
   ],
   "source": [
    "import os\n",
    "import requests\n",
    "import zipfile\n",
    "import io\n",
    "import torch\n",
    "from torchvision.utils import save_image\n",
    "\n",
    "# --- SETUP ---\n",
    "# Folder to save extracted JPG images\n",
    "output_dir = \"images\"\n",
    "os.makedirs(output_dir, exist_ok=True)\n",
    "\n",
    "# Folder to temporarily store downloaded zips\n",
    "zip_dir = \"zips\"\n",
    "os.makedirs(zip_dir, exist_ok=True)\n",
    "\n",
    "# GitHub release base URL\n",
    "base_url = \"https://github.com/s-mujtaba-haider/Programmers-Force/releases/download/v1.0/\"\n",
    "\n",
    "# File names for fake and real parts\n",
    "fake_zips = [f\"fake_part_{i:03d}.zip\" for i in range(9)]  # 000–008\n",
    "real_zips = [f\"part_{i:03d}.zip\" for i in range(11)]      # 000–010\n",
    "\n",
    "# Combine all files\n",
    "all_zips = [(name, \"fake\" if \"fake\" in name else \"real\") for name in fake_zips + real_zips]\n",
    "\n",
    "print(f\"Total ZIP files: {len(all_zips)}\")\n",
    "\n",
    "# --- FUNCTION TO DOWNLOAD AND EXTRACT ---\n",
    "def download_and_extract_zip(filename, label):\n",
    "    url = base_url + filename\n",
    "    print(f\"⬇️ Downloading {filename} ...\")\n",
    "\n",
    "    # Download\n",
    "    response = requests.get(url)\n",
    "    if response.status_code != 200:\n",
    "        print(f\"❌ Failed to download {filename}\")\n",
    "        return\n",
    "    \n",
    "    # Extract zip file in memory\n",
    "    with zipfile.ZipFile(io.BytesIO(response.content)) as z:\n",
    "        files = [f for f in z.namelist() if f.endswith(\".pt\")]\n",
    "        print(f\"📦 Found {len(files)} .pt files in {filename}\")\n",
    "        \n",
    "        # Create label folder (images/real or images/fake)\n",
    "        label_dir = os.path.join(output_dir, label)\n",
    "        os.makedirs(label_dir, exist_ok=True)\n",
    "        \n",
    "        for f in files:\n",
    "            # Load tensor\n",
    "            with z.open(f) as file:\n",
    "                tensor = torch.load(file, map_location=\"cpu\")\n",
    "            \n",
    "            # If tensor has batch dim, remove it\n",
    "            if len(tensor.shape) == 4 and tensor.shape[0] == 1:\n",
    "                tensor = tensor.squeeze(0)\n",
    "            \n",
    "            # Normalize if not in range [0,1]\n",
    "            if tensor.max() > 1:\n",
    "                tensor = tensor / 255.0\n",
    "\n",
    "            # Create file path for image\n",
    "            base_name = os.path.splitext(os.path.basename(f))[0] + \".jpg\"\n",
    "            save_path = os.path.join(label_dir, base_name)\n",
    "\n",
    "            # Save as JPG\n",
    "            save_image(tensor, save_path)\n",
    "\n",
    "        print(f\"✅ Extracted {len(files)} images to {label_dir}\")\n",
    "\n",
    "# --- MAIN LOOP ---\n",
    "for zip_name, label in all_zips:\n",
    "    download_and_extract_zip(zip_name, label)\n",
    "\n",
    "print(\"\\n🎉 Conversion complete! All JPGs saved in 'images/' folder.\")"
   ]
  }
 ],
 "metadata": {
  "kernelspec": {
   "display_name": "Python 3 (ipykernel)",
   "language": "python",
   "name": "python3"
  },
  "language_info": {
   "codemirror_mode": {
    "name": "ipython",
    "version": 3
   },
   "file_extension": ".py",
   "mimetype": "text/x-python",
   "name": "python",
   "nbconvert_exporter": "python",
   "pygments_lexer": "ipython3",
   "version": "3.12.4"
  }
 },
 "nbformat": 4,
 "nbformat_minor": 5
}
