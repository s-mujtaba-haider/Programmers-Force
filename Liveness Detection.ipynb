{
 "cells": [
  {
   "cell_type": "code",
   "execution_count": 1,
   "id": "43b1d0a0-89d9-49d7-b9c8-47dd8debc28e",
   "metadata": {},
   "outputs": [
    {
     "name": "stdout",
     "output_type": "stream",
     "text": [
      "Downloading from https://www.kaggle.com/api/v1/datasets/download/mabdullahsajid/celeba-spoofing?dataset_version_number=1...\n"
     ]
    },
    {
     "name": "stderr",
     "output_type": "stream",
     "text": [
      "100%|███████████████████████████████████████████████████████████████████████████| 71.9G/71.9G [2:14:24<00:00, 9.58MB/s]"
     ]
    },
    {
     "name": "stdout",
     "output_type": "stream",
     "text": [
      "Extracting files...\n"
     ]
    },
    {
     "name": "stderr",
     "output_type": "stream",
     "text": [
      "\n"
     ]
    },
    {
     "name": "stdout",
     "output_type": "stream",
     "text": [
      "Path to dataset files: C:\\Users\\mujta\\.cache\\kagglehub\\datasets\\mabdullahsajid\\celeba-spoofing\\versions\\1\n"
     ]
    }
   ],
   "source": [
    "import kagglehub\n",
    "\n",
    "# Download latest version\n",
    "path = kagglehub.dataset_download(\"mabdullahsajid/celeba-spoofing\")\n",
    "\n",
    "print(\"Path to dataset files:\", path)"
   ]
  },
  {
   "cell_type": "code",
   "execution_count": 1,
   "id": "f60812e0-51cf-4e26-a5bf-b60b565a23bb",
   "metadata": {
    "scrolled": true
   },
   "outputs": [
    {
     "name": "stdout",
     "output_type": "stream",
     "text": [
      "\n",
      "📁 Dataset: celeba_spoof\n",
      "Path: C:\\Users\\mujta\\.cache\\kagglehub\\datasets\\mabdullahsajid\\celeba-spoofing\\versions\\1\n",
      "\n",
      "\n",
      "📁 Dataset: casia_fasd\n",
      "Path: C:\\Users\\mujta\\.cache\\kagglehub\\datasets\\immada\\casia-fasd\\versions\\1\n",
      "\n",
      "\n",
      "📁 Dataset: replay_attack\n",
      "Path: C:\\Users\\mujta\\.cache\\kagglehub\\datasets\\axondata\\replay-attack-mobile-dataset-ibeta-1\\versions\\4\n",
      "\n",
      "\n",
      "📁 Dataset: siw\n",
      "Path: C:\\Users\\mujta\\.cache\\kagglehub\\datasets\\kokomi3012\\siw-dataset\\versions\\1\n",
      "\n",
      "\n",
      "🔍 Directory structure for celeba_spoof:\n",
      "\n",
      "├── CelebA_Spoof\n",
      "│   ├── Data\n",
      "│   │   ├── test\n",
      "│   │   ├── train\n",
      "│   ├── metas\n",
      "│   │   ├── intra_test\n",
      "│   │   ├── protocol1\n",
      "│   │   ├── protocol2\n",
      "│   ├── README\n",
      "\n",
      "================================================================================\n",
      "\n",
      "🔍 Directory structure for casia_fasd:\n",
      "\n",
      "├── casia-fasd\n",
      "│   ├── test\n",
      "│   │   ├── live\n",
      "│   │   ├── spoof\n",
      "│   ├── train\n",
      "│   │   ├── live\n",
      "│   │   ├── spoof\n",
      "\n",
      "================================================================================\n",
      "\n",
      "🔍 Directory structure for replay_attack:\n",
      "\n",
      "├── Axon Labs Replay mobile sample\n",
      "│   ├── Galaxy_a54-Honor70\n",
      "│   │   ├── 20241126_024625.mp4\n",
      "│   │   ├── 20241126_024646.mp4\n",
      "│   │   ├── 20241126_024707.mp4\n",
      "│   │   ├── 20241126_024729.mp4\n",
      "│   │   ├── 20241126_024756.mp4\n",
      "│   │   ├── 20241126_024818.mp4\n",
      "│   │   ├── 20241126_024856.mp4\n",
      "│   │   ├── 20241126_024915.mp4\n",
      "│   │   ├── 20241126_024942.mp4\n",
      "│   │   ├── 20241126_025001.mp4\n",
      "│   ├── Galaxy_a54-Pixel7\n",
      "│   │   ├── 20241126_030439.mp4\n",
      "│   │   ├── 20241126_030501.mp4\n",
      "│   │   ├── 20241126_030523.mp4\n",
      "│   │   ├── 20241126_030546.mp4\n",
      "│   │   ├── 20241126_030612.mp4\n",
      "│   │   ├── 20241126_030629.mp4\n",
      "│   │   ├── 20241126_030652.mp4\n",
      "│   │   ├── 20241126_030713.mp4\n",
      "│   │   ├── 20241126_030745.mp4\n",
      "│   │   ├── 20241126_030805.mp4\n",
      "│   ├── Honor70-pixel7\n",
      "│   │   ├── VID_20241126_025628.mp4\n",
      "│   │   ├── VID_20241126_025649.mp4\n",
      "│   │   ├── VID_20241126_025707.mp4\n",
      "│   │   ├── VID_20241126_025726.mp4\n",
      "│   │   ├── VID_20241126_025811.mp4\n",
      "│   │   ├── VID_20241126_025904.mp4\n",
      "│   │   ├── VID_20241126_025922.mp4\n",
      "│   │   ├── VID_20241126_025940.mp4\n",
      "│   │   ├── VID_20241126_030002.mp4\n",
      "│   ├── Pixel7-Honor70\n",
      "│   │   ├── PXL_20230324_183349660.mp4\n",
      "│   │   ├── PXL_20230324_183519743.mp4\n",
      "│   │   ├── PXL_20230324_183559095.mp4\n",
      "│   │   ├── PXL_20230324_183641131.mp4\n",
      "│   │   ├── PXL_20230324_183710252.mp4\n",
      "│   │   ├── PXL_20230324_183756742.mp4\n",
      "│   │   ├── PXL_20230324_183840182.mp4\n",
      "│   │   ├── PXL_20230324_183909317.mp4\n",
      "│   │   ├── PXL_20230324_183929097.mp4\n",
      "│   │   ├── PXL_20230324_183948636.mp4\n",
      "\n",
      "================================================================================\n",
      "\n",
      "🔍 Directory structure for siw:\n",
      "\n",
      "├── SiW\n",
      "│   ├── test\n",
      "│   │   ├── real\n",
      "│   │   ├── spoof\n",
      "│   ├── train\n",
      "│   │   ├── real\n",
      "│   │   ├── spoof\n",
      "│   ├── val\n",
      "│   │   ├── real\n",
      "│   │   ├── spoof\n",
      "\n",
      "================================================================================\n"
     ]
    }
   ],
   "source": [
    "import kagglehub\n",
    "\n",
    "paths = {\n",
    "    \"celeba_spoof\": kagglehub.dataset_download(\"mabdullahsajid/celeba-spoofing\"),\n",
    "    \"casia_fasd\": kagglehub.dataset_download(\"immada/casia-fasd\"),\n",
    "    \"replay_attack\": kagglehub.dataset_download(\"axondata/replay-attack-mobile-dataset-ibeta-1\"),\n",
    "    \"siw\": kagglehub.dataset_download(\"kokomi3012/siw-dataset\"),\n",
    "}\n",
    "\n",
    "for name, path in paths.items():\n",
    "    print(f\"\\n📁 Dataset: {name}\")\n",
    "    print(f\"Path: {path}\\n\")\n",
    "\n",
    "import os\n",
    "\n",
    "def list_dir_structure(base_path, max_depth=3, prefix=\"\"):\n",
    "    if max_depth < 1:\n",
    "        return\n",
    "    try:\n",
    "        for entry in os.listdir(base_path):\n",
    "            full_path = os.path.join(base_path, entry)\n",
    "            print(prefix + \"├── \" + entry)\n",
    "            if os.path.isdir(full_path):\n",
    "                list_dir_structure(full_path, max_depth - 1, prefix + \"│   \")\n",
    "    except Exception as e:\n",
    "        print(f\"⚠️ Error reading {base_path}: {e}\")\n",
    "\n",
    "for name, path in paths.items():\n",
    "    print(f\"\\n🔍 Directory structure for {name}:\\n\")\n",
    "    list_dir_structure(path, max_depth=3)\n",
    "    print(\"\\n\" + \"=\"*80)"
   ]
  },
  {
   "cell_type": "code",
   "execution_count": 4,
   "id": "14d38887-b7fb-41f4-8103-3465091a0ca5",
   "metadata": {},
   "outputs": [
    {
     "name": "stdout",
     "output_type": "stream",
     "text": [
      "✅ CASIA-FASD merged successfully!\n"
     ]
    }
   ],
   "source": [
    "import shutil, os\n",
    "\n",
    "# CASIA-FASD paths\n",
    "src_train = r\"C:\\Users\\mujta\\.cache\\kagglehub\\datasets\\immada\\casia-fasd\\versions\\1\\casia-fasd\\train\"\n",
    "src_test = r\"C:\\Users\\mujta\\.cache\\kagglehub\\datasets\\immada\\casia-fasd\\versions\\1\\casia-fasd\\test\"\n",
    "dst_root = r\"C:\\Users\\mujta\\data\"\n",
    "\n",
    "# Create destination directories\n",
    "os.makedirs(f\"{dst_root}/train/real\", exist_ok=True)\n",
    "os.makedirs(f\"{dst_root}/train/spoof\", exist_ok=True)\n",
    "os.makedirs(f\"{dst_root}/test/real\", exist_ok=True)\n",
    "os.makedirs(f\"{dst_root}/test/spoof\", exist_ok=True)\n",
    "\n",
    "# ✅ Correct mapping: \"live\" → \"real\"\n",
    "shutil.copytree(f\"{src_train}/live\", f\"{dst_root}/train/real\", dirs_exist_ok=True)\n",
    "shutil.copytree(f\"{src_train}/spoof\", f\"{dst_root}/train/spoof\", dirs_exist_ok=True)\n",
    "shutil.copytree(f\"{src_test}/live\", f\"{dst_root}/test/real\", dirs_exist_ok=True)\n",
    "shutil.copytree(f\"{src_test}/spoof\", f\"{dst_root}/test/spoof\", dirs_exist_ok=True)\n",
    "\n",
    "print(\"✅ CASIA-FASD merged successfully!\")"
   ]
  },
  {
   "cell_type": "code",
   "execution_count": 5,
   "id": "983fe90f-ac2d-497f-a451-08770a29482a",
   "metadata": {},
   "outputs": [],
   "source": [
    "src_siw = r\"C:\\Users\\mujta\\.cache\\kagglehub\\datasets\\kokomi3012\\siw-dataset\\versions\\1\\SiW\"\n",
    "for split in [\"train\", \"val\", \"test\"]:\n",
    "    for category in [\"real\", \"spoof\"]:\n",
    "        shutil.copytree(f\"{src_siw}/{split}/{category}\", f\"{dst_root}/{split}/{category}\", dirs_exist_ok=True)"
   ]
  },
  {
   "cell_type": "code",
   "execution_count": 6,
   "id": "fd45b32e-78f1-471e-bd97-3331df14cdea",
   "metadata": {},
   "outputs": [],
   "source": [
    "import cv2, random\n",
    "\n",
    "src_replay = r\"C:\\Users\\mujta\\.cache\\kagglehub\\datasets\\axondata\\replay-attack-mobile-dataset-ibeta-1\\versions\\4\\Axon Labs Replay mobile sample\"\n",
    "dst_spoof = f\"{dst_root}/train/spoof\"\n",
    "\n",
    "for folder in os.listdir(src_replay):\n",
    "    for file in os.listdir(os.path.join(src_replay, folder)):\n",
    "        if file.endswith(\".mp4\"):\n",
    "            video_path = os.path.join(src_replay, folder, file)\n",
    "            cap = cv2.VideoCapture(video_path)\n",
    "            total_frames = int(cap.get(cv2.CAP_PROP_FRAME_COUNT))\n",
    "            for i in random.sample(range(total_frames), min(10, total_frames)):\n",
    "                cap.set(cv2.CAP_PROP_POS_FRAMES, i)\n",
    "                ret, frame = cap.read()\n",
    "                if ret:\n",
    "                    filename = f\"{os.path.splitext(file)[0]}_{i}.jpg\"\n",
    "                    cv2.imwrite(os.path.join(dst_spoof, filename), frame)\n",
    "            cap.release()"
   ]
  },
  {
   "cell_type": "code",
   "execution_count": 5,
   "id": "4121a470-130b-46f3-b171-3004d89a3c63",
   "metadata": {},
   "outputs": [
    {
     "name": "stderr",
     "output_type": "stream",
     "text": [
      "Copying train: 100%|█████████████████████████████████████████████████████████| 244274/244274 [1:10:52<00:00, 57.45it/s]\n",
      "Copying test: 100%|██████████████████████████████████████████████████████████████| 25758/25758 [07:45<00:00, 55.36it/s]"
     ]
    },
    {
     "name": "stdout",
     "output_type": "stream",
     "text": [
      "✅ CelebA-Spoof dataset merged successfully!\n"
     ]
    },
    {
     "name": "stderr",
     "output_type": "stream",
     "text": [
      "\n"
     ]
    }
   ],
   "source": [
    "import os, json, shutil\n",
    "from tqdm import tqdm\n",
    "\n",
    "# Base paths\n",
    "base = r\"C:\\Users\\mujta\\.cache\\kagglehub\\datasets\\mabdullahsajid\\celeba-spoofing\\versions\\1\\CelebA_Spoof\"\n",
    "dst_root = r\"C:\\Users\\mujta\\data\"\n",
    "\n",
    "# Create destination folders\n",
    "for split in [\"train\", \"test\"]:\n",
    "    os.makedirs(f\"{dst_root}/{split}/real\", exist_ok=True)\n",
    "    os.makedirs(f\"{dst_root}/{split}/spoof\", exist_ok=True)\n",
    "\n",
    "# Load metadata\n",
    "with open(f\"{base}/metas/protocol1/train_label.json\", \"r\") as f:\n",
    "    meta_train = json.load(f)\n",
    "\n",
    "with open(f\"{base}/metas/protocol1/test_label.json\", \"r\") as f:\n",
    "    meta_test = json.load(f)\n",
    "\n",
    "\n",
    "def copy_split(meta, split):\n",
    "    for img_rel_path, label_info in tqdm(meta.items(), total=len(meta), desc=f\"Copying {split}\"):\n",
    "        # Determine full source path\n",
    "        src = os.path.join(base, img_rel_path)\n",
    "\n",
    "        # CelebA Spoof labels are stored as lists, where last element is label\n",
    "        # Example: [0, 1, 0, 1] -> spoof label is last (label_info[-1])\n",
    "        if isinstance(label_info, list):\n",
    "            spoof_label = label_info[-1]\n",
    "        elif isinstance(label_info, dict) and \"spoof_label\" in label_info:\n",
    "            spoof_label = label_info[\"spoof_label\"]\n",
    "        else:\n",
    "            continue  # unknown format, skip\n",
    "\n",
    "        # Destination folder\n",
    "        dst = f\"{dst_root}/{split}/spoof\" if spoof_label == 1 else f\"{dst_root}/{split}/real\"\n",
    "\n",
    "        try:\n",
    "            shutil.copy(src, dst)\n",
    "        except FileNotFoundError:\n",
    "            continue\n",
    "\n",
    "\n",
    "# Run for both splits\n",
    "copy_split(meta_train, \"train\")\n",
    "copy_split(meta_test, \"test\")\n",
    "\n",
    "print(\"✅ CelebA-Spoof dataset merged successfully!\")"
   ]
  },
  {
   "cell_type": "code",
   "execution_count": 12,
   "id": "d6be51f7-eba4-4312-b48f-a42537d9b137",
   "metadata": {},
   "outputs": [
    {
     "name": "stdout",
     "output_type": "stream",
     "text": [
      "train/real: 106614\n",
      "train/spoof: 201883\n",
      "val/real: 600\n",
      "val/spoof: 150\n",
      "test/real: 19639\n",
      "test/spoof: 72655\n"
     ]
    }
   ],
   "source": [
    "dst_root = r\"C:\\Users\\mujta\\data\"\n",
    "\n",
    "for split in [\"train\", \"val\", \"test\"]:\n",
    "    for cls in [\"real\", \"spoof\"]:\n",
    "        count = len(os.listdir(f\"{dst_root}/{split}/{cls}\"))\n",
    "        print(f\"{split}/{cls}: {count}\")"
   ]
  },
  {
   "cell_type": "code",
   "execution_count": 13,
   "id": "49939437-147b-49da-9de3-e1d7d25acfe0",
   "metadata": {},
   "outputs": [
    {
     "name": "stderr",
     "output_type": "stream",
     "text": [
      "train/real: 100%|█████████████████████████████████████████████████████████████| 106614/106614 [15:20<00:00, 115.83it/s]\n",
      "train/spoof: 100%|█████████████████████████████████████████████████████████████| 106614/106614 [21:37<00:00, 82.19it/s]\n",
      "val/real: 100%|██████████████████████████████████████████████████████████████████████| 150/150 [00:01<00:00, 86.54it/s]\n",
      "val/spoof: 100%|█████████████████████████████████████████████████████████████████████| 150/150 [00:01<00:00, 79.85it/s]\n",
      "test/real: 100%|█████████████████████████████████████████████████████████████████| 19639/19639 [04:46<00:00, 68.65it/s]\n",
      "test/spoof: 100%|████████████████████████████████████████████████████████████████| 19639/19639 [04:23<00:00, 74.66it/s]"
     ]
    },
    {
     "name": "stdout",
     "output_type": "stream",
     "text": [
      "✅ Dataset balanced and saved to: C:\\Users\\mujta\\data_balanced\n"
     ]
    },
    {
     "name": "stderr",
     "output_type": "stream",
     "text": [
      "\n"
     ]
    }
   ],
   "source": [
    "import os, random, shutil\n",
    "from tqdm import tqdm\n",
    "\n",
    "def balance_dataset(root):\n",
    "    for split in [\"train\", \"val\", \"test\"]:\n",
    "        real_dir = os.path.join(root, split, \"real\")\n",
    "        spoof_dir = os.path.join(root, split, \"spoof\")\n",
    "\n",
    "        real_imgs = os.listdir(real_dir)\n",
    "        spoof_imgs = os.listdir(spoof_dir)\n",
    "\n",
    "        n_real = len(real_imgs)\n",
    "        n_spoof = len(spoof_imgs)\n",
    "\n",
    "        # If spoof > real → reduce spoof\n",
    "        if n_spoof > n_real:\n",
    "            spoof_imgs = random.sample(spoof_imgs, n_real)\n",
    "        # If real > spoof → reduce real\n",
    "        elif n_real > n_spoof:\n",
    "            real_imgs = random.sample(real_imgs, n_spoof)\n",
    "\n",
    "        # Move balanced images into new folder\n",
    "        balanced_root = root + \"_balanced\"\n",
    "        os.makedirs(os.path.join(balanced_root, split, \"real\"), exist_ok=True)\n",
    "        os.makedirs(os.path.join(balanced_root, split, \"spoof\"), exist_ok=True)\n",
    "\n",
    "        for img in tqdm(real_imgs, desc=f\"{split}/real\"):\n",
    "            shutil.copy(os.path.join(real_dir, img), os.path.join(balanced_root, split, \"real\", img))\n",
    "        for img in tqdm(spoof_imgs, desc=f\"{split}/spoof\"):\n",
    "            shutil.copy(os.path.join(spoof_dir, img), os.path.join(balanced_root, split, \"spoof\", img))\n",
    "\n",
    "    print(\"✅ Dataset balanced and saved to:\", balanced_root)\n",
    "\n",
    "balance_dataset(dst_root)"
   ]
  },
  {
   "cell_type": "code",
   "execution_count": 14,
   "id": "bcd05be9-26f3-4e73-9d60-93d2f1fd7ca9",
   "metadata": {},
   "outputs": [
    {
     "name": "stderr",
     "output_type": "stream",
     "text": [
      "train/real: 100%|████████████████████████████████████████████████████████████| 106614/106614 [4:55:26<00:00,  6.01it/s]\n",
      "train/spoof: 100%|███████████████████████████████████████████████████████████| 106614/106614 [3:18:27<00:00,  8.95it/s]\n",
      "val/real: 100%|██████████████████████████████████████████████████████████████████████| 150/150 [00:13<00:00, 10.79it/s]\n",
      "val/spoof: 100%|█████████████████████████████████████████████████████████████████████| 150/150 [00:15<00:00,  9.76it/s]\n",
      "test/real: 100%|█████████████████████████████████████████████████████████████████| 19639/19639 [46:17<00:00,  7.07it/s]\n",
      "test/spoof: 100%|████████████████████████████████████████████████████████████████| 19639/19639 [25:25<00:00, 12.87it/s]"
     ]
    },
    {
     "name": "stdout",
     "output_type": "stream",
     "text": [
      "✅ Faces cropped and aligned successfully!\n"
     ]
    },
    {
     "name": "stderr",
     "output_type": "stream",
     "text": [
      "\n"
     ]
    }
   ],
   "source": [
    "import os\n",
    "import cv2\n",
    "import torch\n",
    "from facenet_pytorch import MTCNN\n",
    "from tqdm import tqdm\n",
    "from PIL import Image\n",
    "import numpy as np\n",
    "\n",
    "# Paths\n",
    "src_root = r\"C:\\Users\\mujta\\data_balanced\"\n",
    "dst_root = r\"C:\\Users\\mujta\\data_faces\"\n",
    "\n",
    "# Initialize MTCNN (GPU if available)\n",
    "device = 'cuda' if torch.cuda.is_available() else 'cpu'\n",
    "mtcnn = MTCNN(image_size=224, margin=20, keep_all=False, post_process=False, device=device)\n",
    "\n",
    "# Create destination dirs\n",
    "for split in [\"train\", \"val\", \"test\"]:\n",
    "    for label in [\"real\", \"spoof\"]:\n",
    "        os.makedirs(f\"{dst_root}/{split}/{label}\", exist_ok=True)\n",
    "\n",
    "\n",
    "def crop_faces(split):\n",
    "    for label in [\"real\", \"spoof\"]:\n",
    "        src_dir = f\"{src_root}/{split}/{label}\"\n",
    "        dst_dir = f\"{dst_root}/{split}/{label}\"\n",
    "\n",
    "        for img_name in tqdm(os.listdir(src_dir), desc=f\"{split}/{label}\"):\n",
    "            src_path = os.path.join(src_dir, img_name)\n",
    "            dst_path = os.path.join(dst_dir, img_name)\n",
    "            try:\n",
    "                img = cv2.imread(src_path)\n",
    "                if img is None:\n",
    "                    continue\n",
    "\n",
    "                # Convert BGR → RGB for MTCNN\n",
    "                img_rgb = cv2.cvtColor(img, cv2.COLOR_BGR2RGB)\n",
    "                img_pil = Image.fromarray(img_rgb)\n",
    "\n",
    "                # Detect and crop\n",
    "                face = mtcnn(img_pil)\n",
    "\n",
    "                if face is not None:\n",
    "                    # Convert tensor → NumPy image\n",
    "                    face = face.permute(1, 2, 0).byte().cpu().numpy()\n",
    "                    face_bgr = cv2.cvtColor(face, cv2.COLOR_RGB2BGR)\n",
    "                    cv2.imwrite(dst_path, face_bgr)\n",
    "\n",
    "            except Exception as e:\n",
    "                continue\n",
    "\n",
    "\n",
    "# Process splits\n",
    "crop_faces(\"train\")\n",
    "crop_faces(\"val\")\n",
    "crop_faces(\"test\")\n",
    "\n",
    "print(\"✅ Faces cropped and aligned successfully!\")"
   ]
  },
  {
   "cell_type": "code",
   "execution_count": 15,
   "id": "34455a62-9221-4603-99ad-7d6251066854",
   "metadata": {},
   "outputs": [
    {
     "name": "stdout",
     "output_type": "stream",
     "text": [
      "train/real: 106406\n",
      "train/spoof: 103599\n",
      "val/real: 150\n",
      "val/spoof: 150\n",
      "test/real: 19618\n",
      "test/spoof: 19393\n"
     ]
    }
   ],
   "source": [
    "for split in [\"train\", \"val\", \"test\"]:\n",
    "    for cls in [\"real\", \"spoof\"]:\n",
    "        count = len(os.listdir(f\"{dst_root}/{split}/{cls}\"))\n",
    "        print(f\"{split}/{cls}: {count}\")"
   ]
  },
  {
   "cell_type": "code",
   "execution_count": null,
   "id": "fb133761-372c-4624-868f-eac13a557dff",
   "metadata": {},
   "outputs": [
    {
     "name": "stdout",
     "output_type": "stream",
     "text": [
      "Class to idx: {'real': 0, 'spoof': 1}\n"
     ]
    },
    {
     "name": "stderr",
     "output_type": "stream",
     "text": [
      "Epoch 1 Train: 100%|█████████████████████████████████████████████████████████████| 3282/3282 [5:52:02<00:00,  6.44s/it]\n",
      "Epoch 1 Val: 100%|███████████████████████████████████████████████████████████████████████| 5/5 [00:10<00:00,  2.06s/it]\n"
     ]
    },
    {
     "name": "stdout",
     "output_type": "stream",
     "text": [
      "\n",
      "Epoch 1 | Time: 21133.4s | LR: 0.000500\n",
      "Train Loss: 0.4733 | Val Loss: 1.2170\n",
      "Train ACC/F1/ACER: 0.8194 / 0.8170 / 0.1806\n",
      "Val   ACC/F1/ACER: 0.5400 / 0.1481 / 0.4600\n",
      "✅ Saved best model.\n"
     ]
    },
    {
     "name": "stderr",
     "output_type": "stream",
     "text": [
      "Epoch 2 Train:   7%|████                                                          | 216/3282 [21:31<5:00:05,  5.87s/it]"
     ]
    }
   ],
   "source": [
    "# ================================================\n",
    "# FACE LIVENESS DETECTION (REAL vs SPOOF)\n",
    "# Using ViT-B/16 + Focal Loss + Data Augmentation\n",
    "# ================================================\n",
    "\n",
    "import os\n",
    "import torch\n",
    "import torch.nn as nn\n",
    "import torch.nn.functional as F\n",
    "from torch.utils.data import DataLoader, WeightedRandomSampler\n",
    "from torchvision import transforms, datasets, models\n",
    "from sklearn.metrics import confusion_matrix, f1_score\n",
    "import numpy as np\n",
    "from tqdm import tqdm\n",
    "\n",
    "# ================================================\n",
    "# 1. CONFIG\n",
    "# ================================================\n",
    "device = torch.device(\"cuda\" if torch.cuda.is_available() else \"cpu\")\n",
    "print(f\"Running on: {device}\")\n",
    "\n",
    "data_dir = \"data_faces\"  # must contain subfolders: real/, spoof/\n",
    "batch_size = 32\n",
    "num_epochs = 10\n",
    "lr = 1e-4\n",
    "save_path = \"best_vit_liveness.pth\"\n",
    "\n",
    "# ================================================\n",
    "# 2. TRANSFORMS\n",
    "# ================================================\n",
    "train_transform = transforms.Compose([\n",
    "    transforms.Resize((224,224)),\n",
    "    transforms.RandomHorizontalFlip(),\n",
    "    transforms.RandomRotation(10),\n",
    "    transforms.ColorJitter(brightness=0.2, contrast=0.2),\n",
    "    transforms.RandomGrayscale(p=0.1),\n",
    "    transforms.ToTensor(),\n",
    "    transforms.Normalize(mean=[0.5]*3, std=[0.5]*3)\n",
    "])\n",
    "\n",
    "val_transform = transforms.Compose([\n",
    "    transforms.Resize((224,224)),\n",
    "    transforms.ToTensor(),\n",
    "    transforms.Normalize(mean=[0.5]*3, std=[0.5]*3)\n",
    "])\n",
    "\n",
    "# ================================================\n",
    "# 3. DATASETS\n",
    "# ================================================\n",
    "train_dir = os.path.join(data_dir, \"train\")\n",
    "val_dir   = os.path.join(data_dir, \"val\")\n",
    "\n",
    "train_dataset = datasets.ImageFolder(train_dir, transform=train_transform)\n",
    "val_dataset   = datasets.ImageFolder(val_dir, transform=val_transform)\n",
    "\n",
    "print(\"Class to idx:\", train_dataset.class_to_idx)\n",
    "\n",
    "# ================================================\n",
    "# 4. BALANCED SAMPLER\n",
    "# ================================================\n",
    "targets = [label for _, label in train_dataset.samples]\n",
    "class_count = np.bincount(targets)\n",
    "weights = 1. / torch.tensor(class_count, dtype=torch.float)\n",
    "sample_weights = [weights[t] for t in targets]\n",
    "sampler = WeightedRandomSampler(sample_weights, num_samples=len(sample_weights), replacement=True)\n",
    "\n",
    "train_loader = DataLoader(train_dataset, batch_size=batch_size, sampler=sampler, num_workers=4)\n",
    "val_loader   = DataLoader(val_dataset, batch_size=batch_size, shuffle=False, num_workers=4)\n",
    "\n",
    "# ================================================\n",
    "# 5. MODEL (ViT-B/16)\n",
    "# ================================================\n",
    "from torchvision.models import vit_b_16, ViT_B_16_Weights\n",
    "\n",
    "weights = ViT_B_16_Weights.IMAGENET1K_V1\n",
    "model = vit_b_16(weights=weights)\n",
    "model.heads.head = nn.Linear(model.heads.head.in_features, 2)\n",
    "model = model.to(device)\n",
    "\n",
    "# ================================================\n",
    "# 6. FOCAL LOSS\n",
    "# ================================================\n",
    "class FocalLoss(nn.Module):\n",
    "    def __init__(self, alpha=1, gamma=2):\n",
    "        super().__init__()\n",
    "        self.alpha = alpha\n",
    "        self.gamma = gamma\n",
    "    def forward(self, inputs, targets):\n",
    "        CE_loss = F.cross_entropy(inputs, targets, reduction='none')\n",
    "        pt = torch.exp(-CE_loss)\n",
    "        return (self.alpha * (1-pt)**self.gamma * CE_loss).mean()\n",
    "\n",
    "criterion = FocalLoss()\n",
    "optimizer = torch.optim.AdamW(model.parameters(), lr=lr)\n",
    "best_val_loss = float('inf')\n",
    "\n",
    "# ================================================\n",
    "# 7. TRAINING LOOP\n",
    "# ================================================\n",
    "def calculate_metrics(y_true, y_pred):\n",
    "    cm = confusion_matrix(y_true, y_pred, labels=[0,1])\n",
    "    tn, fp, fn, tp = cm.ravel()\n",
    "    acc = (tp + tn) / (tp + tn + fp + fn)\n",
    "    apcer = fp / (tn + fp + 1e-6)\n",
    "    bpcer = fn / (tp + fn + 1e-6)\n",
    "    acer = (apcer + bpcer) / 2\n",
    "    f1 = f1_score(y_true, y_pred)\n",
    "    return acc, f1, apcer, acer\n",
    "\n",
    "for epoch in range(1, num_epochs+1):\n",
    "    model.train()\n",
    "    train_loss, preds, labels = 0, [], []\n",
    "    for imgs, lbls in tqdm(train_loader, desc=f\"Epoch {epoch} Train\"):\n",
    "        imgs, lbls = imgs.to(device), lbls.to(device)\n",
    "        optimizer.zero_grad()\n",
    "        outputs = model(imgs)\n",
    "        loss = criterion(outputs, lbls)\n",
    "        loss.backward()\n",
    "        optimizer.step()\n",
    "        train_loss += loss.item() * imgs.size(0)\n",
    "        preds.extend(torch.argmax(outputs, 1).cpu().numpy())\n",
    "        labels.extend(lbls.cpu().numpy())\n",
    "    train_loss /= len(train_dataset)\n",
    "    train_acc, train_f1, train_apcer, train_acer = calculate_metrics(labels, preds)\n",
    "\n",
    "    # Validation\n",
    "    model.eval()\n",
    "    val_loss, preds, labels = 0, [], []\n",
    "    with torch.no_grad():\n",
    "        for imgs, lbls in tqdm(val_loader, desc=f\"Epoch {epoch} Val\"):\n",
    "            imgs, lbls = imgs.to(device), lbls.to(device)\n",
    "            outputs = model(imgs)\n",
    "            loss = F.cross_entropy(outputs, lbls)\n",
    "            val_loss += loss.item() * imgs.size(0)\n",
    "            preds.extend(torch.argmax(outputs, 1).cpu().numpy())\n",
    "            labels.extend(lbls.cpu().numpy())\n",
    "    val_loss /= len(val_dataset)\n",
    "    val_acc, val_f1, val_apcer, val_acer = calculate_metrics(labels, preds)\n",
    "\n",
    "    print(f\"\\nEpoch {epoch} | LR: {lr}\")\n",
    "    print(f\"Train Loss: {train_loss:.4f} | Val Loss: {val_loss:.4f}\")\n",
    "    print(f\"Train ACC/F1/ACER: {train_acc:.4f}/{train_f1:.4f}/{train_acer:.4f}\")\n",
    "    print(f\"Val   ACC/F1/ACER: {val_acc:.4f}/{val_f1:.4f}/{val_acer:.4f}\")\n",
    "\n",
    "    if val_loss < best_val_loss:\n",
    "        best_val_loss = val_loss\n",
    "        torch.save(model.state_dict(), save_path)\n",
    "        print(\"✅ Saved best model.\\n\")\n",
    "    else:\n",
    "        print(\"No improvement.\\n\")\n",
    "\n",
    "print(\"Training complete.\")"
   ]
  },
  {
   "cell_type": "code",
   "execution_count": null,
   "id": "92d87b89-2ee6-499a-b740-0bc81937888d",
   "metadata": {},
   "outputs": [],
   "source": [
    "# -----------------------------------------------------\n",
    "\n",
    "# ---------------- Final Test Eval --------------------\n",
    "model.eval()\n",
    "test_preds, test_labels = [], []\n",
    "with torch.no_grad():\n",
    "    for imgs, labels in tqdm(test_loader, desc=\"Testing\"):\n",
    "        imgs, labels = imgs.to(DEVICE), labels.to(DEVICE)\n",
    "        logits = model(imgs)\n",
    "        preds = torch.argmax(logits, dim=1).cpu().numpy()\n",
    "        test_preds.append(preds)\n",
    "        test_labels.append(labels.cpu().numpy())\n",
    "\n",
    "test_preds, test_labels = np.concatenate(test_preds), np.concatenate(test_labels)\n",
    "test_stats = compute_metrics(test_labels, test_preds)\n",
    "\n",
    "print(\"\\n--- Test Metrics ---\")\n",
    "print(\"Confusion Matrix:\\n\", test_stats[\"cm\"])\n",
    "print(f\"Accuracy:  {test_stats['acc']:.4f}\")\n",
    "print(f\"Precision: {test_stats['prec']:.4f}\")\n",
    "print(f\"Recall:    {test_stats['rec']:.4f}\")\n",
    "print(f\"F1 Score:  {test_stats['f1']:.4f}\")\n",
    "print(f\"APCER:     {test_stats['APCER']:.4f}\")\n",
    "print(f\"BPCER:     {test_stats['BPCER']:.4f}\")\n",
    "print(f\"ACER:      {test_stats['ACER']:.4f}\")\n",
    "\n",
    "torch.save(model.state_dict(), \"final_model_weights.pth\")\n",
    "print(\"💾 Saved final_model_weights.pth\")"
   ]
  }
 ],
 "metadata": {
  "kernelspec": {
   "display_name": "Python 3 (ipykernel)",
   "language": "python",
   "name": "python3"
  },
  "language_info": {
   "codemirror_mode": {
    "name": "ipython",
    "version": 3
   },
   "file_extension": ".py",
   "mimetype": "text/x-python",
   "name": "python",
   "nbconvert_exporter": "python",
   "pygments_lexer": "ipython3",
   "version": "3.12.4"
  }
 },
 "nbformat": 4,
 "nbformat_minor": 5
}
